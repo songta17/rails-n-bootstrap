{
 "cells": [
  {
   "cell_type": "markdown",
   "id": "53bf4e61",
   "metadata": {},
   "source": [
    "print('Hello World!')"
   ]
  },
  {
   "cell_type": "code",
   "execution_count": 6,
   "id": "315f180d",
   "metadata": {},
   "outputs": [],
   "source": [
    "# Ceci est un titre H1"
   ]
  },
  {
   "cell_type": "code",
   "execution_count": 7,
   "id": "72538da4",
   "metadata": {},
   "outputs": [],
   "source": [
    "# Un titre de niveau 1"
   ]
  },
  {
   "cell_type": "code",
   "execution_count": 8,
   "id": "cb46cd08",
   "metadata": {},
   "outputs": [
    {
     "name": "stdout",
     "output_type": "stream",
     "text": [
      "# Ceci est un h1\n"
     ]
    }
   ],
   "source": [
    "print('# Ceci est un h1')"
   ]
  },
  {
   "cell_type": "markdown",
   "id": "e1790d24",
   "metadata": {},
   "source": [
    "# ceci est un h1"
   ]
  },
  {
   "cell_type": "markdown",
   "id": "96143669",
   "metadata": {},
   "source": [
    "## ceci est un h2"
   ]
  },
  {
   "cell_type": "markdown",
   "id": "cf214304",
   "metadata": {},
   "source": [
    "Le texte comprend un texte en itzlique, c/'est ici"
   ]
  },
  {
   "cell_type": "markdown",
   "id": "a6b10a7f",
   "metadata": {},
   "source": [
    "Ceci est un texte en *italique*"
   ]
  },
  {
   "cell_type": "markdown",
   "id": "81ed265b",
   "metadata": {},
   "source": [
    "Ceci est un texrte en **gras**"
   ]
  },
  {
   "cell_type": "markdown",
   "id": "62f7883e",
   "metadata": {},
   "source": [
    "# Ceci est un texte h3"
   ]
  },
  {
   "cell_type": "markdown",
   "id": "af15db5e",
   "metadata": {},
   "source": [
    "### ceci est un h3"
   ]
  },
  {
   "cell_type": "markdown",
   "id": "8297d0b5",
   "metadata": {},
   "source": [
    "ceci est __gras__"
   ]
  },
  {
   "cell_type": "markdown",
   "id": "8a919fa3",
   "metadata": {},
   "source": [
    "l. Item 1"
   ]
  },
  {
   "cell_type": "markdown",
   "id": "1842c8ac",
   "metadata": {},
   "source": [
    "1. Item 1\n",
    "1. Item 2\n",
    "1. Item 3\n",
    "   1. Item 3a\n",
    "   1. Item 3b"
   ]
  },
  {
   "cell_type": "markdown",
   "id": "a19a8d55",
   "metadata": {},
   "source": [
    "< chao bella"
   ]
  },
  {
   "cell_type": "markdown",
   "id": "20196dca",
   "metadata": {},
   "source": [
    "> chao bella"
   ]
  },
  {
   "cell_type": "markdown",
   "id": "d4a142bd",
   "metadata": {},
   "source": [
    "I think you should use an\n",
    "`<addr>` element here instead."
   ]
  },
  {
   "cell_type": "markdown",
   "id": "9e054e8d",
   "metadata": {},
   "source": [
    "I think you should use an\n",
    "<addr> element here instead."
   ]
  },
  {
   "cell_type": "code",
   "execution_count": 9,
   "id": "e08f7a70",
   "metadata": {},
   "outputs": [],
   "source": [
    "budgetQuotidien = 100"
   ]
  },
  {
   "cell_type": "code",
   "execution_count": 10,
   "id": "471ab91b",
   "metadata": {},
   "outputs": [
    {
     "name": "stdout",
     "output_type": "stream",
     "text": [
      "budgetQuotidien\n"
     ]
    }
   ],
   "source": [
    "print('budgetQuotidien')"
   ]
  },
  {
   "cell_type": "code",
   "execution_count": 11,
   "id": "150a4203",
   "metadata": {},
   "outputs": [
    {
     "name": "stdout",
     "output_type": "stream",
     "text": [
      "100\n"
     ]
    }
   ],
   "source": [
    "print(budgetQuotidien)"
   ]
  },
  {
   "cell_type": "code",
   "execution_count": 12,
   "id": "9d52d052",
   "metadata": {},
   "outputs": [],
   "source": [
    "moduloExemple = 3 % 3"
   ]
  },
  {
   "cell_type": "code",
   "execution_count": 14,
   "id": "70a5d465",
   "metadata": {},
   "outputs": [
    {
     "data": {
      "text/plain": [
       "0"
      ]
     },
     "execution_count": 14,
     "metadata": {},
     "output_type": "execute_result"
    }
   ],
   "source": [
    "moduloExemple"
   ]
  },
  {
   "cell_type": "code",
   "execution_count": 15,
   "id": "3028801d",
   "metadata": {},
   "outputs": [
    {
     "ename": "NameError",
     "evalue": "name 'revenuQuotidien' is not defined",
     "output_type": "error",
     "traceback": [
      "\u001b[0;31m---------------------------------------------------------------------------\u001b[0m",
      "\u001b[0;31mNameError\u001b[0m                                 Traceback (most recent call last)",
      "\u001b[0;32m<ipython-input-15-2592a8828024>\u001b[0m in \u001b[0;36m<module>\u001b[0;34m\u001b[0m\n\u001b[0;32m----> 1\u001b[0;31m \u001b[0mrevenuQuotidien\u001b[0m\u001b[0;34m\u001b[0m\u001b[0;34m\u001b[0m\u001b[0m\n\u001b[0m",
      "\u001b[0;31mNameError\u001b[0m: name 'revenuQuotidien' is not defined"
     ]
    }
   ],
   "source": [
    "revenuQuotidien"
   ]
  },
  {
   "cell_type": "code",
   "execution_count": 20,
   "id": "3372ee10",
   "metadata": {},
   "outputs": [
    {
     "data": {
      "text/plain": [
       "0"
      ]
     },
     "execution_count": 20,
     "metadata": {},
     "output_type": "execute_result"
    }
   ],
   "source": [
    "moduloExemple"
   ]
  },
  {
   "cell_type": "code",
   "execution_count": 22,
   "id": "f3a425f8",
   "metadata": {},
   "outputs": [
    {
     "name": "stdout",
     "output_type": "stream",
     "text": [
      "0\n"
     ]
    }
   ],
   "source": [
    "print(moduloExemple)"
   ]
  },
  {
   "cell_type": "code",
   "execution_count": 24,
   "id": "8ca6bde5",
   "metadata": {
    "scrolled": true
   },
   "outputs": [],
   "source": [
    "a = 15.1"
   ]
  },
  {
   "cell_type": "code",
   "execution_count": 25,
   "id": "ebf10a67",
   "metadata": {},
   "outputs": [],
   "source": [
    "a = int(a)"
   ]
  },
  {
   "cell_type": "code",
   "execution_count": 26,
   "id": "26b6de5e",
   "metadata": {},
   "outputs": [
    {
     "name": "stdout",
     "output_type": "stream",
     "text": [
      "15\n"
     ]
    }
   ],
   "source": [
    "print(a)"
   ]
  },
  {
   "cell_type": "code",
   "execution_count": 27,
   "id": "ba529c8b",
   "metadata": {},
   "outputs": [],
   "source": [
    "b = 13.9"
   ]
  },
  {
   "cell_type": "code",
   "execution_count": 28,
   "id": "b03ad9de",
   "metadata": {},
   "outputs": [],
   "source": [
    "b = int(b)"
   ]
  },
  {
   "cell_type": "code",
   "execution_count": 29,
   "id": "bc117f77",
   "metadata": {},
   "outputs": [
    {
     "name": "stdout",
     "output_type": "stream",
     "text": [
      "13\n"
     ]
    }
   ],
   "source": [
    "print(b)"
   ]
  },
  {
   "cell_type": "code",
   "execution_count": 31,
   "id": "67b206b2",
   "metadata": {},
   "outputs": [],
   "source": [
    "name = \"Johon\""
   ]
  },
  {
   "cell_type": "code",
   "execution_count": 32,
   "id": "2f1dbdc6",
   "metadata": {},
   "outputs": [
    {
     "data": {
      "text/plain": [
       "5"
      ]
     },
     "execution_count": 32,
     "metadata": {},
     "output_type": "execute_result"
    }
   ],
   "source": [
    "len(name)"
   ]
  },
  {
   "cell_type": "code",
   "execution_count": 34,
   "id": "f00dd597",
   "metadata": {},
   "outputs": [
    {
     "name": "stdout",
     "output_type": "stream",
     "text": [
      "Help on built-in function len in module builtins:\n",
      "\n",
      "len(obj, /)\n",
      "    Return the number of items in a container.\n",
      "\n"
     ]
    }
   ],
   "source": [
    "help(len)"
   ]
  },
  {
   "cell_type": "code",
   "execution_count": 35,
   "id": "06158c8d",
   "metadata": {},
   "outputs": [],
   "source": [
    "coucou = [0,1,2,3]"
   ]
  },
  {
   "cell_type": "code",
   "execution_count": 36,
   "id": "69292dfd",
   "metadata": {},
   "outputs": [
    {
     "name": "stdout",
     "output_type": "stream",
     "text": [
      "[0, 1, 2, 3]\n"
     ]
    }
   ],
   "source": [
    "print(coucou)"
   ]
  },
  {
   "cell_type": "code",
   "execution_count": 37,
   "id": "91a98bc9",
   "metadata": {},
   "outputs": [
    {
     "data": {
      "text/plain": [
       "4"
      ]
     },
     "execution_count": 37,
     "metadata": {},
     "output_type": "execute_result"
    }
   ],
   "source": [
    "len(coucou)"
   ]
  },
  {
   "cell_type": "code",
   "execution_count": null,
   "id": "03581db0",
   "metadata": {},
   "outputs": [],
   "source": []
  },
  {
   "cell_type": "code",
   "execution_count": null,
   "id": "0efa7e7a",
   "metadata": {},
   "outputs": [],
   "source": []
  },
  {
   "cell_type": "code",
   "execution_count": null,
   "id": "cdefa7f7",
   "metadata": {},
   "outputs": [],
   "source": []
  }
 ],
 "metadata": {
  "kernelspec": {
   "display_name": "Python 3",
   "language": "python",
   "name": "python3"
  },
  "language_info": {
   "codemirror_mode": {
    "name": "ipython",
    "version": 3
   },
   "file_extension": ".py",
   "mimetype": "text/x-python",
   "name": "python",
   "nbconvert_exporter": "python",
   "pygments_lexer": "ipython3",
   "version": "3.8.8"
  }
 },
 "nbformat": 4,
 "nbformat_minor": 5
}
